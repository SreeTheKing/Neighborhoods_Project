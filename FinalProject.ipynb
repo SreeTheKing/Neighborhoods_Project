{
 "cells": [
  {
   "cell_type": "markdown",
   "metadata": {},
   "source": [
    "# Best Neighborhood in Pittsburgh"
   ]
  },
  {
   "cell_type": "markdown",
   "metadata": {},
   "source": [
    "Team name:\n",
    "\n",
    "Group Members: Austin Gohn and Sreekar Pamujula"
   ]
  },
  {
   "cell_type": "markdown",
   "metadata": {},
   "source": [
    "The following datasets were used to make this project:  \n",
    "https://data.wprdc.org/datastore/dump/47350364-44a8-4d15-b6e0-5f79ddff9367"
   ]
  },
  {
   "cell_type": "markdown",
   "metadata": {},
   "source": [
    "## Introduction"
   ]
  },
  {
   "cell_type": "markdown",
   "metadata": {},
   "source": [
    "When coming up with how to decide what the best neighborhood in Pittsburgh is, we decided to look at this through the eye of a child. So in other words, if a kid were to chose the best neighborhood in Pittsburgh, which would they chose? When thinking about this question, we decided that a kid would chose the best neighborhood based off the most fun neighborhood to play in. This means that the metric being used is the most fun neighborhood for a kid to play in. The submetrics we will be using include the number of playgrounds per neighborhood, the number of pools per neighborhood, and the ratio of kids to the overall population in the neighborhood. From a child's point of view, there being lots of children in the area to play with and easy access to playgrounds and pools would be the perfect place to live. Therefore, the best neighborhood in Pittsburgh through the eyes of a child will be decided through the number of playgrounds, number of pools, and the ratio of kids to the total population in the neighborhood."
   ]
  },
  {
   "cell_type": "markdown",
   "metadata": {},
   "source": [
    "Let's start by importing pandas and numpy..."
   ]
  },
  {
   "cell_type": "code",
   "execution_count": 2,
   "metadata": {},
   "outputs": [],
   "source": [
    "#import pandas\n",
    "import pandas as pd\n",
    "#import numpy\n",
    "import numpy as np\n",
    "#import matplotlib\n",
    "%matplotlib inline\n",
    "import matplotlib.pyplot as plt"
   ]
  },
  {
   "cell_type": "markdown",
   "metadata": {},
   "source": [
    "## Playgrounds"
   ]
  },
  {
   "cell_type": "code",
   "execution_count": null,
   "metadata": {},
   "outputs": [],
   "source": []
  }
 ],
 "metadata": {
  "kernelspec": {
   "display_name": "Python 3",
   "language": "python",
   "name": "python3"
  },
  "language_info": {
   "codemirror_mode": {
    "name": "ipython",
    "version": 3
   },
   "file_extension": ".py",
   "mimetype": "text/x-python",
   "name": "python",
   "nbconvert_exporter": "python",
   "pygments_lexer": "ipython3",
   "version": "3.8.3"
  }
 },
 "nbformat": 4,
 "nbformat_minor": 4
}
